{
 "cells": [
  {
   "cell_type": "markdown",
   "metadata": {},
   "source": [
    "# Introdução\n",
    "\n",
    "No início do terceiro triênio da estratégia em rede <strong data-cite=\"feldhaus2012gestao\">(Calegari, 2012)</strong> idealizada por Diego Calegari, Presidente Executivo da Brasil Júnior em 2009, era chegada a hora de direcionar o Movimento Empresa Júnior para trazer impacto à sociedade.\n",
    "\n",
    "Depois de um primeiro triênio cujo maior desafio foi estabelecer o conceito de Empresa Júnior como se entendem hoje e um segundo triênio dedicado a melhorar os processos de gestão das EJs, Ianna Brandão, Diretora de Desenvolvimento da Rede em 2016, deu início ao mote \"Mais e Melhores Projetos\". As estratégias e os conceitos trazidos por ela, como uma definição única de \"projeto\" e uma plataforma integrada para auditoria, isto é, o Portal BJ, foram responsáveis por gerar em pouco mais de 2 anos tanto resultado quanto se havia gerado nos 27 anos anteriores do Movimento.\n",
    "\n",
    "A nova riqueza e complexidade que abarcou o Movimento fez as estratégias de suporte da Brasil Júnior e das Federações se tornarem obsoletas. Como prestariam o tão necessário direcionamento que as EJs precisavam num contexto tão diverso? Este foi o problema motivador da criação do Sistema de Clusters em 2017 <strong data-cite=\"clusters2017\">(Leite, 2017)</strong> que trouxe como solução a separação das EJs em grupos, ou *clusters*, de acordo com as dores que estas comumente sentem ao longo dos seus estágios de amadurecimento.\n",
    "\n",
    "Em 2019, após a recriação da estratégia compartilhada da rede através do projeto \"Futuro do MEJ\", tornou-se necessário reconstruir os fundamentos da clusterização. Este processo culminou no atual entendimento do conceito de cluster e das dores associadas a cada um deles que podem ser verificadas através [deste link](bit.ly/CLUSTERS) <strong data-cite=\"clusters2019\">(Bezerra, 2019)</strong>.\n",
    "\n",
    "Este documento visa a análise dos dados gerados a partir do formulário de diagnóstico das Empresas Juniores inscritas no Programa de Suporte da SERJÚNIOR em 2020 que toma por base a clusterização."
   ]
  },
  {
   "cell_type": "markdown",
   "metadata": {},
   "source": [
    "# Análise\n",
    "\n",
    "## Considerações Iniciais\n",
    "\n",
    "Todos os arquivos utilizados, bem como a versão editável deste documento podem ser encontrados [neste repositório](https://github.com/gustavomello9600/clusters)\n",
    "\n",
    "Ao leitor não técnico, recomenda-se que se leia de forma superficial as etapas de Tratamento e Modelagem e que se dê especial ênfase à etapa de Discussão.\n",
    "\n",
    "Ao longo do texto, buscou-se esclarecer em linguagem simples e natural, até onde foi possível, o significado dos conceitos abordados e do código empregado; além de se levar em conta os procedimentos necessários para garantir a reprodutibilidade da análise.\n",
    "\n",
    "Todas as ferramentas de análise utilizadas são provenientes de bibliotecas gratuitas das linguagens de programação R e Python.\n",
    "\n",
    "## Tratamento\n",
    "\n",
    "As linhas de código abaixo servem para garantir que, em qualquer sistema operacional, os dados serão encontrados."
   ]
  },
  {
   "cell_type": "code",
   "execution_count": 1,
   "metadata": {},
   "outputs": [],
   "source": [
    "#Traz as ferramentas que o Python precisa para se mover dentre\n",
    "#as pastas do sistema operacional em que está sendo executado\n",
    "import os\n",
    "\n",
    "#Ensina o Python a encontrar os dados do diagnóstico\n",
    "caminho_para_os_dados =  os.path.join(\"dados\",\n",
    "                                      \"clusters.csv\")\n",
    "\n",
    "#Carrega a integração entre as linguagens R e Python\n",
    "%load_ext rpy2.ipython"
   ]
  },
  {
   "cell_type": "code",
   "execution_count": 13,
   "metadata": {},
   "outputs": [
    {
     "name": "stdout",
     "output_type": "stream",
     "text": [
      "`summarise()` regrouping output by 'EJs', 'Cluster' (override with `.groups` argument)\n",
      "`summarise()` regrouping output by 'EJs' (override with `.groups` argument)\n",
      "`summarise()` regrouping output by 'Cluster', 'Eixo' (override with `.groups` argument)\n",
      "\u001b[90m# A tibble: 6 x 4\u001b[39m\n",
      "\u001b[90m# Groups:   Cluster, Eixo [5]\u001b[39m\n",
      "  Cluster Eixo  Dores Media\n",
      "  \u001b[3m\u001b[90m<chr>\u001b[39m\u001b[23m   \u001b[3m\u001b[90m<chr>\u001b[39m\u001b[23m \u001b[3m\u001b[90m<chr>\u001b[39m\u001b[23m \u001b[3m\u001b[90m<dbl>\u001b[39m\u001b[23m\n",
      "\u001b[90m1\u001b[39m 5       VM    2      3   \n",
      "\u001b[90m2\u001b[39m 5       VM    1      2.67\n",
      "\u001b[90m3\u001b[39m 2       TC    1      2.58\n",
      "\u001b[90m4\u001b[39m 3       TC    2      2.58\n",
      "\u001b[90m5\u001b[39m 1       TC    1      2.5 \n",
      "\u001b[90m6\u001b[39m 4       VM    1      2.5 \n",
      "`summarise()` ungrouping output (override with `.groups` argument)\n",
      "\u001b[90m# A tibble: 4 x 2\u001b[39m\n",
      "  Eixo  Media\n",
      "  \u001b[3m\u001b[90m<chr>\u001b[39m\u001b[23m \u001b[3m\u001b[90m<dbl>\u001b[39m\u001b[23m\n",
      "\u001b[90m1\u001b[39m VM     2.17\n",
      "\u001b[90m2\u001b[39m TC     1.94\n",
      "\u001b[90m3\u001b[39m MN     1.73\n",
      "\u001b[90m4\u001b[39m GO     1.69\n"
     ]
    }
   ],
   "source": [
    "%%R -i caminho_para_os_dados\n",
    "#Chama a linguagem R e fornece o caminho para os dados do diagnóstico\n",
    "\n",
    "#Carrega as ferramentas de análise\n",
    "library(tidyr)\n",
    "library(dplyr)\n",
    "\n",
    "#Lê os dados e os formata para a análise\n",
    "entrada <- read.csv(caminho_para_os_dados)\n",
    "entrada <- as_tibble(entrada)\n",
    "\n",
    "#Processa e organiza os dados carregados \n",
    "processada <- entrada %>%\n",
    "                  pivot_longer(\n",
    "                       cols = -EJs,\n",
    "                       names_to = c(\"Eixo\", \"Cluster\", \"Dores\"),\n",
    "                       names_pattern = \"([A-Z]+)_([1-5])_([1-5])\",\n",
    "                       values_to = \"Resposta\")\n",
    "    \n",
    "#Agrupa os dados por EJ, Cluster e Eixo e calcula a média das\n",
    "#respostas para cada um desses grupos\n",
    "empresas_juniores <- processada %>%\n",
    "                         group_by(EJs, Cluster, Eixo) %>%\n",
    "                         summarise(Media=mean(Resposta))\n",
    "\n",
    "#Gera uma base de dados para cada Eixo\n",
    "ejs_por_MN <- empresas_juniores %>% filter(Eixo == \"MN\")\n",
    "ejs_por_VM <- empresas_juniores %>% filter(Eixo == \"VM\")\n",
    "ejs_por_TC <- empresas_juniores %>% filter(Eixo == \"TC\")\n",
    "ejs_por_GO <- empresas_juniores %>% filter(Eixo == \"GO\")\n",
    "\n",
    "\n",
    "#Agrupa os dados por EJ e Cluster e calcula a\n",
    "#média das respostas para cada um desses grupos\n",
    "ejs_por_cluster <- empresas_juniores %>%\n",
    "                       group_by(EJs, Cluster) %>%\n",
    "                       summarise(Media=mean(Media))\n",
    "        \n",
    "#Agrupa os dados por Cluster, Eixo e Dores,\n",
    "#calcula a média para cada grupo e organiza a tabela\n",
    "#de modo que as dores mais presentes fiquem no topo\n",
    "dores <- processada %>%\n",
    "             group_by(Cluster, Eixo, Dores) %>%\n",
    "             summarise(Media=mean(Resposta)) %>%\n",
    "             arrange(desc(Media))\n",
    "\n",
    "#Mostra as primeiras linhas da tabela gerada acima\n",
    "print(head(dores))\n",
    "\n",
    "#Sumariza as dores por eixo\n",
    "eixos <- dores %>%\n",
    "             group_by(Eixo) %>%\n",
    "             summarize(Media=mean(Media)) %>%\n",
    "             arrange(desc(Media))\n",
    "\n",
    "#Mostra o sumário por eixo\n",
    "eixos"
   ]
  },
  {
   "cell_type": "markdown",
   "metadata": {},
   "source": [
    "O que a primeira tabela nos diz em sua primeira linha, por exemplo, é que a dor mais latente das EJs inscritas no programa de suporte, de acordo com suas respostas ao formulário de diagnóstico, é a 2ª dor do eixo de Vendas & Mercado no Cluster 5. Consultando o documento, vemos que esta corresponde a:\n",
    "\n",
    "> Temos dificuldade de encontrar nichos de mercados alternativos para serem explorados e posicionar nossa marca em canais que os atinjam.\n",
    "\n",
    "As demais dores, em ordem de colocação, são:\n",
    "\n",
    "> Não realizamos investimentos em estruturas que tornem nosso processo de vendas mais inteligente e automatizado.\n",
    "\n",
    "> O engajamento dos nossos membros é muito desproporcional, o que gera picos de produtividade e inconstância de resultados.\n",
    "\n",
    "> Nossos membros são pouco proativos em empreenderem mudanças importantes para a nossa EJ.\n",
    "\n",
    "> Temos dificuldade em atrair membros para a EJ.\n",
    "\n",
    "> Não temos uma inteligência de vendas para tornar a prospecção de novos negócios e vendas mais eficiente.\n",
    "\n",
    "Já a segunda tabela mostra que a maioria das dores estão concentradas nos eixos de **Vendas & Mercado** e **Time & Cultura**."
   ]
  },
  {
   "cell_type": "markdown",
   "metadata": {},
   "source": [
    "## Modelagem\n",
    "\n",
    "### Análise de Componentes Principais\n",
    "\n",
    "Esta técnica consiste em encontrar os padrões de variação mais comuns em um grupo de dados. Para os fins desta análise, considera-se que o padrão de identificação geral de uma EJ com as dores de cada cluster pode ser representada como um sinal, isto é, como na imagem abaixo:\n",
    "\n",
    "![EJs](output_9_1.png)\n",
    "\n",
    "A EJ hipotética acima representada em azul tem um \"Sinal de Cluster\" mais forte no 1 e no 4. Na prática, isto significa que a maior parte das suas dores estão no cluster 1, uma menor parte no 4 e nenhuma nas demais. Repare que as EJs em verde e vermelho representadas por traços pontilhados tem perfis próximos. \n",
    "\n",
    "É notável ao olho humano que o sinal verde é mais próximo ao azul do que o vermelho o é. A Análise de Componentes Principais, ou PCA, como comumente é referida, enxerga, no entanto, os dois sinais como distantes do azul na mesma medida. Para contornar este problema, basta \"espalhar\" um pouco o sinal de cada EJ. Isto pode ser feito através de uma operação conhecida na Álgebra Linear como \"mudança de base\". O resultado de um sinal puro e unitário de cluster 1 ao ser \"espalhado\" é o que pode ser visto na figura abaixo:\n",
    "\n",
    "![Sinal Espalhado](output_8_1.png)"
   ]
  },
  {
   "cell_type": "code",
   "execution_count": 14,
   "metadata": {},
   "outputs": [
    {
     "name": "stdout",
     "output_type": "stream",
     "text": [
      "\u001b[90m# A tibble: 60 x 4\u001b[39m\n",
      "\u001b[90m# Groups:   EJs, Cluster [60]\u001b[39m\n",
      "   EJs        Cluster Eixo  Media\n",
      "   \u001b[3m\u001b[90m<fct>\u001b[39m\u001b[23m      \u001b[3m\u001b[90m<chr>\u001b[39m\u001b[23m   \u001b[3m\u001b[90m<chr>\u001b[39m\u001b[23m \u001b[3m\u001b[90m<dbl>\u001b[39m\u001b[23m\n",
      "\u001b[90m 1\u001b[39m Agrosertão 1       MN      2.5\n",
      "\u001b[90m 2\u001b[39m Agrosertão 2       MN      2.5\n",
      "\u001b[90m 3\u001b[39m Agrosertão 3       MN      3.5\n",
      "\u001b[90m 4\u001b[39m Agrosertão 4       MN      3.5\n",
      "\u001b[90m 5\u001b[39m Agrosertão 5       MN      3.5\n",
      "\u001b[90m 6\u001b[39m Easy Jr.   1       MN      0.5\n",
      "\u001b[90m 7\u001b[39m Easy Jr.   2       MN      1.5\n",
      "\u001b[90m 8\u001b[39m Easy Jr.   3       MN      0.5\n",
      "\u001b[90m 9\u001b[39m Easy Jr.   4       MN      1  \n",
      "\u001b[90m10\u001b[39m Easy Jr.   5       MN      2  \n",
      "\u001b[90m# … with 50 more rows\u001b[39m\n"
     ]
    }
   ],
   "source": [
    "%%R\n",
    "\n",
    "print(ejs_por_MN)"
   ]
  },
  {
   "cell_type": "code",
   "execution_count": 3,
   "metadata": {
    "scrolled": true
   },
   "outputs": [
    {
     "name": "stdout",
     "output_type": "stream",
     "text": [
      "Definindo uma nova base\n",
      "----------------------\n",
      "\n",
      "Matriz de vetores\n",
      "originais da base C:\n",
      "(8, 4, 2, 1, 1)\n",
      "(4, 8, 4, 2, 1)\n",
      "(2, 4, 8, 4, 2)\n",
      "(1, 2, 4, 8, 4)\n",
      "(1, 1, 2, 4, 8)\n",
      "\n"
     ]
    }
   ],
   "source": [
    "import numpy as np\n",
    "from numbers import Number\n",
    "from numpy.linalg import inv as inversa\n",
    "\n",
    "\n",
    "def normalizar_colunas(A):\n",
    "    colunas \n",
    "\n",
    "class Sinal_de_Cluster:\n",
    "    \n",
    "    bases = {\"c\": ((1, 0, 0, 0, 0),\n",
    "                   (0, 1, 0, 0, 0),\n",
    "                   (0, 0, 1, 0, 0),\n",
    "                   (0, 0, 0, 1, 0),\n",
    "                   (0, 0, 0, 0, 1))\n",
    "             }\n",
    "    \n",
    "    @classmethod\n",
    "    def definir_base(cls, símbolo, matriz, normal=True):\n",
    "        if not normal:\n",
    "            cls.bases[símbolo] = matriz\n",
    "        else:\n",
    "            vetores_da_base = [[coord[i] for coord in matriz]\n",
    "                                for i in range(len(matriz[0]))]\n",
    "            sinais_da_base = [Sinal_de_Cluster(vetor)\n",
    "                              for vetor in vetores_da_base]\n",
    "            base_normalizada = [sinal/abs(sinal)\n",
    "                                for sinal in sinais_da_base]\n",
    "            cls.bases[símbolo] = [\n",
    "                \n",
    "                [base[i] for base in base_normalizada]\n",
    "                 for i in range(len(base_normalizada[0]))\n",
    "            ]\n",
    "    def __init__(self, vetor, base=\"c\"):\n",
    "        self.base = base\n",
    "        self.coordenadas = [coord for coord in vetor]\n",
    "        self.pontos = [0] + self.coordenadas + [0]\n",
    "        self.T = [[coord] for coord in vetor]\n",
    "         \n",
    "    def interno(self, other):\n",
    "        resultado = 0\n",
    "        for i in range (7):\n",
    "            k = 1\n",
    "            if i == 0 or i == 6: k = 0.5\n",
    "            resultado += k * self.pontos[i] * other.pontos[i]\n",
    "        return resultado\n",
    "    \n",
    "    def normalizado(self):\n",
    "        return self/(abs(self))\n",
    "    \n",
    "    def __mul__(self, other):\n",
    "        if isinstance(other, Sinal_de_Cluster):\n",
    "            return self.interno(other)\n",
    "        elif isinstance(other, Number):\n",
    "            return other*self\n",
    "        else:\n",
    "            raise NotImplementedError\n",
    "            \n",
    "    def __truediv__(self, other):\n",
    "        if isinstance(other, Number):\n",
    "            return self * (1/other)\n",
    "    \n",
    "    def __rmul__(self, other):\n",
    "        if isinstance(other, Number):\n",
    "            vetor = [other * coord for\n",
    "                     coord in self.coordenadas]\n",
    "            return Sinal_de_Cluster(vetor, base=self.base)\n",
    "        else:\n",
    "            raise NotImplementedError\n",
    "            \n",
    "    def __abs__(self):\n",
    "        return float((self * self) ** (1/2))\n",
    "    \n",
    "    def __len__(self):\n",
    "        return len(self.coordenadas)\n",
    "    \n",
    "    def __getitem__(self, i):\n",
    "        return self.coordenadas[i]\n",
    "    \n",
    "    def __add__(self, other):\n",
    "        vetor = [self.coordenadas[i]\n",
    "                 + other.coordenadas[i]\n",
    "                 for i in range(5)]\n",
    "        return Sinal_de_Cluster(vetor, base=self.base)\n",
    "    \n",
    "    def __sub__(self, other):\n",
    "        vetor = [self.coordenadas[i]\n",
    "                 - other.coordenadas[i]\n",
    "                 for i in range(5)]\n",
    "        return Sinal_de_Cluster(vetor, base=self.base)\n",
    "    \n",
    "    def para_a_base(self, base):\n",
    "        if base == self.base:\n",
    "            return self\n",
    "        else:\n",
    "            atual_para_c = Sinal_de_Cluster.bases[self.base]\n",
    "            c_para_base = inversa(\n",
    "                np.array(Sinal_de_Cluster.bases[base]))\n",
    "            array = c_para_base @ atual_para_c @ np.array(self.T)\n",
    "            return Sinal_de_Cluster([n[0] for n in array],\n",
    "                                    base=base)\n",
    "        \n",
    "    def __repr__(self):\n",
    "        return np.array(self.T).__repr__(\n",
    "               ) + \"\\nbase {}\".format(self.base)\n",
    "    \n",
    "    def __str__(self):\n",
    "        return np.array(self.T).__str__(\n",
    "               ) + \"base {}\".format(self.base)\n",
    "    \n",
    "print(\"\"\"Definindo uma nova base\n",
    "----------------------\"\"\")\n",
    "\n",
    "matriz_da_base_C = (\n",
    "    \n",
    "    (8, 4, 2, 1, 1),\n",
    "    (4, 8, 4, 2, 1),\n",
    "    (2, 4, 8, 4, 2),\n",
    "    (1, 2, 4, 8, 4),\n",
    "    (1, 1, 2, 4, 8))\n",
    "\n",
    "print(\n",
    "\"\"\"\n",
    "Matriz de vetores\n",
    "originais da base C:\n",
    "{}\n",
    "{}\n",
    "{}\n",
    "{}\n",
    "{}\n",
    "\"\"\".format(*matriz_da_base_C))\n",
    "\n",
    "Sinal_de_Cluster.definir_base(\n",
    "         \"C\", matriz_da_base_C)"
   ]
  },
  {
   "cell_type": "code",
   "execution_count": 4,
   "metadata": {},
   "outputs": [
    {
     "data": {
      "text/plain": [
       "[<matplotlib.lines.Line2D at 0x7f6d82cfd0>]"
      ]
     },
     "execution_count": 4,
     "metadata": {},
     "output_type": "execute_result"
    },
    {
     "data": {
      "image/png": "[encoded data removed]",
      "text/plain": [
       "<Figure size 432x288 with 1 Axes>"
      ]
     },
     "metadata": {
      "needs_background": "light"
     },
     "output_type": "display_data"
    }
   ],
   "source": [
    "%matplotlib inline\n",
    "from matplotlib import pyplot as plt\n",
    "\n",
    "axes = plt.gca()\n",
    "axes.set_ylim([0, 4])\n",
    "\n",
    "X = [0, 1, 2, 3, 4, 5, 6]\n",
    "\n",
    "c1 = Sinal_de_Cluster([1, 0, 0, 0, 0])\n",
    "plt.plot(X, c1.pontos)\n",
    "\n",
    "C1 = Sinal_de_Cluster(\n",
    "    Sinal_de_Cluster.bases[\"C\"][0])\n",
    "plt.plot(X, C1.pontos)"
   ]
  },
  {
   "cell_type": "code",
   "execution_count": 5,
   "metadata": {},
   "outputs": [
    {
     "data": {
      "text/plain": [
       "[<matplotlib.lines.Line2D at 0x7f6cdafbd0>]"
      ]
     },
     "execution_count": 5,
     "metadata": {},
     "output_type": "execute_result"
    },
    {
     "data": {
      "image/png": "[encoded data removed]",
      "text/plain": [
       "<Figure size 432x288 with 1 Axes>"
      ]
     },
     "metadata": {
      "needs_background": "light"
     },
     "output_type": "display_data"
    }
   ],
   "source": [
    "b = base_de_entrada = \"C\"\n",
    "\n",
    "EJ_1 = Sinal_de_Cluster([4, 0, 0, 1, 0], b)\n",
    "plt.plot(X, EJ_1.pontos, 'b-')\n",
    "\n",
    "EJ_2 = Sinal_de_Cluster([4, 0, 1, 0, 0], b)\n",
    "plt.plot(X, EJ_2.pontos, 'g--')\n",
    "\n",
    "EJ_3 = Sinal_de_Cluster([4, 1, 0, 0, 0], b)\n",
    "plt.plot(X, EJ_3.pontos, 'r--')"
   ]
  },
  {
   "cell_type": "code",
   "execution_count": 6,
   "metadata": {},
   "outputs": [
    {
     "name": "stdout",
     "output_type": "stream",
     "text": [
      "\n",
      "Distância EJ1-EJ2: 1.414\n",
      "Ângulo:            0.941\n",
      "\n",
      "Distância EJ1-EJ3: 1.414\n",
      "Ângulo:            0.941\n"
     ]
    }
   ],
   "source": [
    "def distância(S1, S2):\n",
    "    return abs(S1 - S2)\n",
    "\n",
    "def ângulo(S1, S2):\n",
    "    return (S1 * S2)/(abs(S1) * abs(S2))\n",
    "\n",
    "print(\"\"\"\n",
    "Distância EJ1-EJ2: {:.3f}\n",
    "Ângulo:            {:.3f}\"\"\".format(\n",
    "    distância(EJ_1, EJ_2),\n",
    "    ângulo(EJ_1, EJ_2)))\n",
    "\n",
    "print(\"\"\"\n",
    "Distância EJ1-EJ3: {:.3f}\n",
    "Ângulo:            {:.3f}\"\"\".format(\n",
    "    distância(EJ_1, EJ_3),\n",
    "    ângulo(EJ_1, EJ_3)))"
   ]
  },
  {
   "cell_type": "code",
   "execution_count": 7,
   "metadata": {},
   "outputs": [
    {
     "name": "stdout",
     "output_type": "stream",
     "text": [
      "\n",
      "Repetindo o cálculo em c\n",
      "--------------------------\n",
      "\n",
      "Distância EJ1-EJ2: 0.632\n",
      "Ângulo:            0.991\n",
      "\n",
      "Distância EJ1-EJ3: 0.944\n",
      "Ângulo:            0.982\n"
     ]
    }
   ],
   "source": [
    "print(\"\"\"\n",
    "Repetindo o cálculo em c\n",
    "--------------------------\"\"\")\n",
    "\n",
    "EJ_1 = EJ_1.para_a_base(\"c\")\n",
    "\n",
    "EJ_2 = EJ_2.para_a_base(\"c\")\n",
    "\n",
    "EJ_3 = EJ_3.para_a_base(\"c\")\n",
    "\n",
    "print(\"\"\"\n",
    "Distância EJ1-EJ2: {:.3f}\n",
    "Ângulo:            {:.3f}\"\"\".format(\n",
    "    distância(EJ_1, EJ_2),\n",
    "    ângulo(EJ_1, EJ_2)))\n",
    "\n",
    "print(\"\"\"\n",
    "Distância EJ1-EJ3: {:.3f}\n",
    "Ângulo:            {:.3f}\"\"\".format(\n",
    "    distância(EJ_1, EJ_3),\n",
    "    ângulo(EJ_1, EJ_3)))"
   ]
  },
  {
   "cell_type": "code",
   "execution_count": 8,
   "metadata": {},
   "outputs": [
    {
     "data": {
      "text/plain": [
       "[<matplotlib.lines.Line2D at 0x7f6cd33ed0>]"
      ]
     },
     "execution_count": 8,
     "metadata": {},
     "output_type": "execute_result"
    },
    {
     "data": {
      "image/png": "[encoded data removed]",
      "text/plain": [
       "<Figure size 432x288 with 1 Axes>"
      ]
     },
     "metadata": {
      "needs_background": "light"
     },
     "output_type": "display_data"
    }
   ],
   "source": [
    "plt.plot(X, EJ_1.pontos, 'b-')\n",
    "plt.plot(X, EJ_2.pontos, 'g--')\n",
    "plt.plot(X, EJ_3.pontos, 'r--')"
   ]
  },
  {
   "cell_type": "code",
   "execution_count": 9,
   "metadata": {},
   "outputs": [
    {
     "data": {
      "text/plain": [
       "[<matplotlib.lines.Line2D at 0x7f6ccb65d0>]"
      ]
     },
     "execution_count": 9,
     "metadata": {},
     "output_type": "execute_result"
    },
    {
     "data": {
      "image/png": "[encoded data removed]",
      "text/plain": [
       "<Figure size 432x288 with 1 Axes>"
      ]
     },
     "metadata": {
      "needs_background": "light"
     },
     "output_type": "display_data"
    }
   ],
   "source": [
    "EJ_média = (EJ_1 + EJ_2 + EJ_3)/3\n",
    "plt.plot(X, EJ_1.pontos, 'b--')\n",
    "plt.plot(X, EJ_2.pontos, 'g--')\n",
    "plt.plot(X, EJ_3.pontos, 'r--')\n",
    "plt.plot(X, EJ_média.pontos, 'y')"
   ]
  },
  {
   "cell_type": "code",
   "execution_count": 10,
   "metadata": {},
   "outputs": [
    {
     "data": {
      "image/png": "[encoded data removed]",
      "text/plain": [
       "<Figure size 432x288 with 1 Axes>"
      ]
     },
     "metadata": {
      "needs_background": "light"
     },
     "output_type": "display_data"
    }
   ],
   "source": [
    "EJs = [EJ_1, EJ_2, EJ_3]\n",
    "EJs_centradas = [EJ - EJ_média\n",
    "                 for EJ in EJs]\n",
    "\n",
    "for EJ in EJs_centradas:\n",
    "    plt.plot(X, EJ.pontos, '--')"
   ]
  },
  {
   "cell_type": "code",
   "execution_count": 11,
   "metadata": {},
   "outputs": [
    {
     "name": "stdout",
     "output_type": "stream",
     "text": [
      "[[ 0.01546733  0.03093466 -0.00452087 -0.02847128 -0.01423564]\n",
      " [ 0.03093466  0.06186932 -0.00904175 -0.05694256 -0.02847128]\n",
      " [-0.00452087 -0.00904175  0.03318741 -0.00904175 -0.00452087]\n",
      " [-0.02847128 -0.05694256 -0.00904175  0.06186932  0.03093466]\n",
      " [-0.01423564 -0.02847128 -0.00452087  0.03093466  0.01546733]]\n"
     ]
    }
   ],
   "source": [
    "cov = covariância_EJs = [\n",
    "    [sum([EJs_centradas[k][i]\n",
    "          * EJs_centradas[k][j]\n",
    "                     for k in range(len(EJs))]\n",
    "        )/len(EJs)\n",
    "        \n",
    "        for j in range(len(EJs[0]))]\n",
    "        for i in range(len(EJs[0]))]\n",
    "print(\n",
    "np.array(cov))"
   ]
  },
  {
   "cell_type": "code",
   "execution_count": 12,
   "metadata": {},
   "outputs": [
    {
     "name": "stdout",
     "output_type": "stream",
     "text": [
      "[ 1.48514851e-01  9.59518923e-18  3.93458597e-02  3.14495909e-18\n",
      " -1.48859612e-18]\n",
      "[ 1.48514851e-01  3.93458597e-02  9.59518923e-18  3.14495909e-18\n",
      " -1.48859612e-18]\n",
      "[0.14851485 0.03934586]\n"
     ]
    },
    {
     "data": {
      "text/plain": [
       "array([[ 3.16227766e-01,  9.40397739e-01],\n",
       "       [ 6.32455532e-01, -2.45964206e-01],\n",
       "       [ 1.90819582e-17,  1.22183279e-01],\n",
       "       [-6.32455532e-01,  1.79387731e-01],\n",
       "       [-3.16227766e-01,  8.96938653e-02]])"
      ]
     },
     "execution_count": 12,
     "metadata": {},
     "output_type": "execute_result"
    }
   ],
   "source": [
    "from numpy.linalg import eig\n",
    "\n",
    "variâncias, vetores = eig(cov)\n",
    "\n",
    "print(variâncias)\n",
    "\n",
    "índices = variâncias.argsort()[::-1]\n",
    "\n",
    "variâncias = variâncias[índices]\n",
    "print(variâncias)\n",
    "\n",
    "k = len(índices)\n",
    "for i in range(len(variâncias)):\n",
    "    if variâncias[índices[i]] < 1e-3:\n",
    "        k = i; break\n",
    "\n",
    "variâncias = variâncias[:k + 1]\n",
    "print(variâncias)\n",
    "\n",
    "vetores = vetores[:, range(k + 1)]\n",
    "\n",
    "variâncias = [float(var) for var in variâncias]\n",
    "\n",
    "vetores"
   ]
  },
  {
   "cell_type": "code",
   "execution_count": 13,
   "metadata": {},
   "outputs": [
    {
     "data": {
      "application/vnd.jupyter.widget-view+json": {
       "model_id": "16d9d2af087a4e8da2602f6b34dd4d73",
       "version_major": 2,
       "version_minor": 0
      },
      "text/plain": [
       "interactive(children=(FloatSlider(value=0.0, description='alfa', max=20.0, min=-20.0), FloatSlider(value=0.0, …"
      ]
     },
     "metadata": {},
     "output_type": "display_data"
    }
   ],
   "source": [
    "from ipywidgets import interact\n",
    "\n",
    "@interact(alfa=(-20.0, 20.0), beta=(-20.0, 20.0))\n",
    "def plot_signal(alfa, beta):\n",
    "    vec_alfa = alfa * variâncias[0] * Sinal_de_Cluster(list(vetores[:, 0]))\n",
    "    vec_beta = beta * variâncias[1] * Sinal_de_Cluster(list(vetores[:, 1]))    \n",
    "    resultante = EJ_média + vec_alfa + vec_beta\n",
    "    resultante = resultante.para_a_base(\"C\")\n",
    "    plt.plot(X, resultante.pontos)"
   ]
  },
  {
   "cell_type": "markdown",
   "metadata": {},
   "source": [
    "Essa expressão é a porra:\n",
    "\n",
    "$$\n",
    "\\int^{b}_{a} e^{-x^{2}} dx\n",
    "$$\n",
    "\n",
    "Se ligue"
   ]
  },
  {
   "cell_type": "code",
   "execution_count": null,
   "metadata": {},
   "outputs": [],
   "source": []
  }
 ],
 "metadata": {
  "kernelspec": {
   "display_name": "Python 3",
   "language": "python",
   "name": "python3"
  },
  "language_info": {
   "codemirror_mode": {
    "name": "ipython",
    "version": 3
   },
   "file_extension": ".py",
   "mimetype": "text/x-python",
   "name": "python",
   "nbconvert_exporter": "python",
   "pygments_lexer": "ipython3",
   "version": "3.7.5"
  },
  "latex_metadata": {
   "author": "Gustavo Mello \\quad Jamilly Moura",
   "bib": "notebook.bib",
   "title": "{\\bf Dores dos Clusters do MEJ Sergipe} \\\\ Análise do Diagnóstico do Programa de Suporte"
  }
 },
 "nbformat": 4,
 "nbformat_minor": 4
}
