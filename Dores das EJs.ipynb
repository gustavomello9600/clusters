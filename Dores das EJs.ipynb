{
 "cells": [
  {
   "cell_type": "code",
   "execution_count": 17,
   "metadata": {},
   "outputs": [
    {
     "name": "stderr",
     "output_type": "stream",
     "text": [
      "c:\\users\\gusta\\appdata\\local\\programs\\python\\python38\\lib\\site-packages\\rpy2\\robjects\\packages.py:365: UserWarning: The symbol 'quartz' is not in this R namespace/package.\n",
      "  warnings.warn(\n"
     ]
    }
   ],
   "source": [
    "%load_ext rpy2.ipython"
   ]
  },
  {
   "cell_type": "code",
   "execution_count": 69,
   "metadata": {},
   "outputs": [
    {
     "name": "stdout",
     "output_type": "stream",
     "text": [
      "`summarise()` regrouping output by 'EJs', 'Cluster' (override with `.groups` argument)\n",
      "`summarise()` regrouping output by 'EJs' (override with `.groups` argument)\n",
      "`summarise()` regrouping output by 'Cluster', 'Eixo' (override with `.groups` argument)\n",
      "# A tibble: 45 x 4\n",
      "# Groups:   Cluster, Eixo [20]\n",
      "   Cluster Eixo  Dores media\n",
      "   <chr>   <chr> <chr> <dbl>\n",
      " 1 5       VM    2       2.7\n",
      " 2 2       TC    1       2.6\n",
      " 3 3       TC    2       2.6\n",
      " 4 5       VM    1       2.6\n",
      " 5 1       TC    1       2.4\n",
      " 6 4       VM    1       2.4\n",
      " 7 1       VM    2       2.2\n",
      " 8 4       GO    2       2.1\n",
      " 9 5       MN    2       2.1\n",
      "10 2       VM    2       2  \n",
      "11 3       TC    1       2  \n",
      "12 3       TC    3       2  \n",
      "13 4       MN    2       2  \n",
      "14 4       TC    1       2  \n",
      "15 4       TC    2       2  \n",
      "16 3       MN    1       1.9\n",
      "17 4       VM    2       1.9\n",
      "18 5       GO    3       1.9\n",
      "19 5       MN    1       1.9\n",
      "20 5       TC    2       1.9\n",
      "21 3       VM    2       1.8\n",
      "22 2       GO    1       1.7\n",
      "23 3       VM    1       1.7\n",
      "24 5       GO    1       1.7\n",
      "25 3       GO    1       1.5\n",
      "26 4       GO    1       1.5\n",
      "27 4       TC    3       1.5\n",
      "28 5       TC    1       1.5\n",
      "29 1       GO    2       1.4\n",
      "30 1       TC    3       1.4\n",
      "31 2       GO    2       1.4\n",
      "32 3       MN    2       1.4\n",
      "33 1       VM    1       1.3\n",
      "34 2       MN    1       1.3\n",
      "35 2       VM    1       1.3\n",
      "36 2       MN    2       1.2\n",
      "37 2       TC    2       1.2\n",
      "38 3       GO    2       1.2\n",
      "39 4       MN    1       1.2\n",
      "40 1       MN    1       1.1\n",
      "41 1       TC    2       1  \n",
      "42 2       TC    3       1  \n",
      "43 5       GO    2       1  \n",
      "44 1       GO    1       0.8\n",
      "45 1       MN    2       0.8\n"
     ]
    }
   ],
   "source": [
    "%%R\n",
    "library(tidyr)\n",
    "library(dplyr)\n",
    "\n",
    "entrada <- read.csv(\"dados\\\\clusters.csv\")\n",
    "entrada <- as_tibble(entrada)\n",
    "\n",
    "processada <- entrada %>%\n",
    "                  pivot_longer(\n",
    "                       cols = -EJs,\n",
    "                       names_to = c(\"Eixo\", \"Cluster\", \"Dores\"),\n",
    "                       names_pattern = \"([A-Z]+)_([1-5])_([1-5])\",\n",
    "                       values_to = \"Resposta\")\n",
    "\n",
    "empresas_juniores <- processada %>%\n",
    "                         group_by(EJs, Cluster, Eixo) %>%\n",
    "                         summarise(media=mean(Resposta))\n",
    "        \n",
    "ejs_por_MN <- empresas_juniores %>% filter(Eixo == \"MT\")\n",
    "ejs_por_VM <- empresas_juniores %>% filter(Eixo == \"VM\")\n",
    "ejs_por_TC <- empresas_juniores %>% filter(Eixo == \"TC\")\n",
    "ejs_por_GO <- empresas_juniores %>% filter(Eixo == \"GO\")\n",
    "\n",
    "ejs_por_cluster <- empresas_juniores %>%\n",
    "                       group_by(EJs, Cluster) %>%\n",
    "                       summarise(media=mean(media))\n",
    "        \n",
    "dores <- processada %>%\n",
    "             group_by(Cluster, Eixo, Dores) %>%\n",
    "             summarise(media=mean(Resposta)) %>%\n",
    "             arrange(desc(media))\n",
    "\n",
    "print(dores, n=45)"
   ]
  },
  {
   "cell_type": "markdown",
   "metadata": {},
   "source": [
    "# Agrupamento de EJs pelo padrão de resposta ao questionário dos clusters"
   ]
  },
  {
   "cell_type": "code",
   "execution_count": 1,
   "metadata": {
    "scrolled": true
   },
   "outputs": [
    {
     "name": "stdout",
     "output_type": "stream",
     "text": [
      "Definindo uma nova base\n",
      "----------------------\n",
      "\n",
      "Matriz de vetores\n",
      "originais da base C:\n",
      "(8, 4, 2, 1, 1)\n",
      "(4, 8, 4, 2, 1)\n",
      "(2, 4, 8, 4, 2)\n",
      "(1, 2, 4, 8, 4)\n",
      "(1, 1, 2, 4, 8)\n",
      "\n"
     ]
    }
   ],
   "source": [
    "import numpy as np\n",
    "from numbers import Number\n",
    "from numpy.linalg import inv as inversa\n",
    "\n",
    "\n",
    "def normalizar_colunas(A):\n",
    "    colunas \n",
    "\n",
    "class Sinal_de_Cluster:\n",
    "    \n",
    "    bases = {\"c\": ((1, 0, 0, 0, 0),\n",
    "                   (0, 1, 0, 0, 0),\n",
    "                   (0, 0, 1, 0, 0),\n",
    "                   (0, 0, 0, 1, 0),\n",
    "                   (0, 0, 0, 0, 1))\n",
    "             }\n",
    "    \n",
    "    @classmethod\n",
    "    def definir_base(cls, símbolo, matriz, normal=True):\n",
    "        if not normal:\n",
    "            cls.bases[símbolo] = matriz\n",
    "        else:\n",
    "            vetores_da_base = [[coord[i] for coord in matriz]\n",
    "                                for i in range(len(matriz[0]))]\n",
    "            sinais_da_base = [Sinal_de_Cluster(vetor)\n",
    "                              for vetor in vetores_da_base]\n",
    "            base_normalizada = [sinal/abs(sinal)\n",
    "                                for sinal in sinais_da_base]\n",
    "            cls.bases[símbolo] = [\n",
    "                \n",
    "                [base[i] for base in base_normalizada]\n",
    "                 for i in range(len(base_normalizada[0]))\n",
    "            ]\n",
    "    def __init__(self, vetor, base=\"c\"):\n",
    "        self.base = base\n",
    "        self.coordenadas = [coord for coord in vetor]\n",
    "        self.pontos = [0] + self.coordenadas + [0]\n",
    "        self.T = [[coord] for coord in vetor]\n",
    "         \n",
    "    def interno(self, other):\n",
    "        resultado = 0\n",
    "        for i in range (7):\n",
    "            k = 1\n",
    "            if i == 0 or i == 6: k = 0.5\n",
    "            resultado += k * self.pontos[i] * other.pontos[i]\n",
    "        return resultado\n",
    "    \n",
    "    def normalizado(self):\n",
    "        return self/(abs(self))\n",
    "    \n",
    "    def __mul__(self, other):\n",
    "        if isinstance(other, Sinal_de_Cluster):\n",
    "            return self.interno(other)\n",
    "        elif isinstance(other, Number):\n",
    "            return other*self\n",
    "        else:\n",
    "            raise NotImplementedError\n",
    "            \n",
    "    def __truediv__(self, other):\n",
    "        if isinstance(other, Number):\n",
    "            return self * (1/other)\n",
    "    \n",
    "    def __rmul__(self, other):\n",
    "        if isinstance(other, Number):\n",
    "            vetor = [other * coord for\n",
    "                     coord in self.coordenadas]\n",
    "            return Sinal_de_Cluster(vetor, base=self.base)\n",
    "        else:\n",
    "            raise NotImplementedError\n",
    "            \n",
    "    def __abs__(self):\n",
    "        return float((self * self) ** (1/2))\n",
    "    \n",
    "    def __len__(self):\n",
    "        return len(self.coordenadas)\n",
    "    \n",
    "    def __getitem__(self, i):\n",
    "        return self.coordenadas[i]\n",
    "    \n",
    "    def __add__(self, other):\n",
    "        vetor = [self.coordenadas[i]\n",
    "                 + other.coordenadas[i]\n",
    "                 for i in range(5)]\n",
    "        return Sinal_de_Cluster(vetor, base=self.base)\n",
    "    \n",
    "    def __sub__(self, other):\n",
    "        vetor = [self.coordenadas[i]\n",
    "                 - other.coordenadas[i]\n",
    "                 for i in range(5)]\n",
    "        return Sinal_de_Cluster(vetor, base=self.base)\n",
    "    \n",
    "    def para_a_base(self, base):\n",
    "        if base == self.base:\n",
    "            return self\n",
    "        else:\n",
    "            atual_para_c = Sinal_de_Cluster.bases[self.base]\n",
    "            c_para_base = inversa(\n",
    "                np.array(Sinal_de_Cluster.bases[base]))\n",
    "            array = c_para_base @ atual_para_c @ np.array(self.T)\n",
    "            return Sinal_de_Cluster([n[0] for n in array],\n",
    "                                    base=base)\n",
    "        \n",
    "    def __repr__(self):\n",
    "        return np.array(self.T).__repr__(\n",
    "               ) + \"\\nbase {}\".format(self.base)\n",
    "    \n",
    "    def __str__(self):\n",
    "        return np.array(self.T).__str__(\n",
    "               ) + \"base {}\".format(self.base)\n",
    "    \n",
    "print(\"\"\"Definindo uma nova base\n",
    "----------------------\"\"\")\n",
    "\n",
    "matriz_da_base_C = (\n",
    "    \n",
    "    (8, 4, 2, 1, 1),\n",
    "    (4, 8, 4, 2, 1),\n",
    "    (2, 4, 8, 4, 2),\n",
    "    (1, 2, 4, 8, 4),\n",
    "    (1, 1, 2, 4, 8))\n",
    "\n",
    "print(\n",
    "\"\"\"\n",
    "Matriz de vetores\n",
    "originais da base C:\n",
    "{}\n",
    "{}\n",
    "{}\n",
    "{}\n",
    "{}\n",
    "\"\"\".format(*matriz_da_base_C))\n",
    "\n",
    "Sinal_de_Cluster.definir_base(\n",
    "         \"C\", matriz_da_base_C)"
   ]
  },
  {
   "cell_type": "code",
   "execution_count": 2,
   "metadata": {},
   "outputs": [
    {
     "data": {
      "text/plain": [
       "[<matplotlib.lines.Line2D at 0x2224186f1c0>]"
      ]
     },
     "execution_count": 2,
     "metadata": {},
     "output_type": "execute_result"
    },
    {
     "data": {
      "image/png": "[encoded data removed]",
      "text/plain": [
       "<Figure size 432x288 with 1 Axes>"
      ]
     },
     "metadata": {
      "needs_background": "light"
     },
     "output_type": "display_data"
    }
   ],
   "source": [
    "%matplotlib inline\n",
    "from matplotlib import pyplot as plt\n",
    "\n",
    "axes = plt.gca()\n",
    "axes.set_ylim([0, 4])\n",
    "\n",
    "X = [0, 1, 2, 3, 4, 5, 6]\n",
    "\n",
    "c1 = Sinal_de_Cluster([1, 0, 0, 0, 0])\n",
    "plt.plot(X, c1.pontos)\n",
    "\n",
    "C1 = Sinal_de_Cluster(\n",
    "    Sinal_de_Cluster.bases[\"C\"][0])\n",
    "plt.plot(X, C1.pontos)"
   ]
  },
  {
   "cell_type": "code",
   "execution_count": 3,
   "metadata": {},
   "outputs": [
    {
     "data": {
      "text/plain": [
       "[<matplotlib.lines.Line2D at 0x2224190e460>]"
      ]
     },
     "execution_count": 3,
     "metadata": {},
     "output_type": "execute_result"
    },
    {
     "data": {
      "image/png": "[encoded data removed]",
      "text/plain": [
       "<Figure size 432x288 with 1 Axes>"
      ]
     },
     "metadata": {
      "needs_background": "light"
     },
     "output_type": "display_data"
    }
   ],
   "source": [
    "b = base_de_entrada = \"C\"\n",
    "\n",
    "EJ_1 = Sinal_de_Cluster([4, 0, 0, 1, 0], b)\n",
    "plt.plot(X, EJ_1.pontos, 'b-')\n",
    "\n",
    "EJ_2 = Sinal_de_Cluster([4, 0, 1, 0, 0], b)\n",
    "plt.plot(X, EJ_2.pontos, 'g--')\n",
    "\n",
    "EJ_3 = Sinal_de_Cluster([4, 1, 0, 0, 0], b)\n",
    "plt.plot(X, EJ_3.pontos, 'r--')"
   ]
  },
  {
   "cell_type": "code",
   "execution_count": 4,
   "metadata": {},
   "outputs": [
    {
     "name": "stdout",
     "output_type": "stream",
     "text": [
      "\n",
      "Distância EJ1-EJ2: 1.414\n",
      "Ângulo:            0.941\n",
      "\n",
      "Distância EJ1-EJ3: 1.414\n",
      "Ângulo:            0.941\n"
     ]
    }
   ],
   "source": [
    "def distância(S1, S2):\n",
    "    return abs(S1 - S2)\n",
    "\n",
    "def ângulo(S1, S2):\n",
    "    return (S1 * S2)/(abs(S1) * abs(S2))\n",
    "\n",
    "print(\"\"\"\n",
    "Distância EJ1-EJ2: {:.3f}\n",
    "Ângulo:            {:.3f}\"\"\".format(\n",
    "    distância(EJ_1, EJ_2),\n",
    "    ângulo(EJ_1, EJ_2)))\n",
    "\n",
    "print(\"\"\"\n",
    "Distância EJ1-EJ3: {:.3f}\n",
    "Ângulo:            {:.3f}\"\"\".format(\n",
    "    distância(EJ_1, EJ_3),\n",
    "    ângulo(EJ_1, EJ_3)))"
   ]
  },
  {
   "cell_type": "code",
   "execution_count": 5,
   "metadata": {},
   "outputs": [
    {
     "name": "stdout",
     "output_type": "stream",
     "text": [
      "\n",
      "Repetindo o cálculo em c\n",
      "--------------------------\n",
      "\n",
      "Distância EJ1-EJ2: 0.632\n",
      "Ângulo:            0.991\n",
      "\n",
      "Distância EJ1-EJ3: 0.944\n",
      "Ângulo:            0.982\n"
     ]
    }
   ],
   "source": [
    "print(\"\"\"\n",
    "Repetindo o cálculo em c\n",
    "--------------------------\"\"\")\n",
    "\n",
    "EJ_1 = EJ_1.para_a_base(\"c\")\n",
    "\n",
    "EJ_2 = EJ_2.para_a_base(\"c\")\n",
    "\n",
    "EJ_3 = EJ_3.para_a_base(\"c\")\n",
    "\n",
    "print(\"\"\"\n",
    "Distância EJ1-EJ2: {:.3f}\n",
    "Ângulo:            {:.3f}\"\"\".format(\n",
    "    distância(EJ_1, EJ_2),\n",
    "    ângulo(EJ_1, EJ_2)))\n",
    "\n",
    "print(\"\"\"\n",
    "Distância EJ1-EJ3: {:.3f}\n",
    "Ângulo:            {:.3f}\"\"\".format(\n",
    "    distância(EJ_1, EJ_3),\n",
    "    ângulo(EJ_1, EJ_3)))"
   ]
  },
  {
   "cell_type": "code",
   "execution_count": 6,
   "metadata": {},
   "outputs": [
    {
     "data": {
      "text/plain": [
       "[<matplotlib.lines.Line2D at 0x22241978ac0>]"
      ]
     },
     "execution_count": 6,
     "metadata": {},
     "output_type": "execute_result"
    },
    {
     "data": {
      "image/png": "[encoded data removed]",
      "text/plain": [
       "<Figure size 432x288 with 1 Axes>"
      ]
     },
     "metadata": {
      "needs_background": "light"
     },
     "output_type": "display_data"
    }
   ],
   "source": [
    "plt.plot(X, EJ_1.pontos, 'b-')\n",
    "plt.plot(X, EJ_2.pontos, 'g--')\n",
    "plt.plot(X, EJ_3.pontos, 'r--')"
   ]
  },
  {
   "cell_type": "code",
   "execution_count": 7,
   "metadata": {},
   "outputs": [
    {
     "data": {
      "text/plain": [
       "[<matplotlib.lines.Line2D at 0x222419e2940>]"
      ]
     },
     "execution_count": 7,
     "metadata": {},
     "output_type": "execute_result"
    },
    {
     "data": {
      "image/png": "[encoded data removed]",
      "text/plain": [
       "<Figure size 432x288 with 1 Axes>"
      ]
     },
     "metadata": {
      "needs_background": "light"
     },
     "output_type": "display_data"
    }
   ],
   "source": [
    "EJ_média = (EJ_1 + EJ_2 + EJ_3)/3\n",
    "plt.plot(X, EJ_1.pontos, 'b--')\n",
    "plt.plot(X, EJ_2.pontos, 'g--')\n",
    "plt.plot(X, EJ_3.pontos, 'r--')\n",
    "plt.plot(X, EJ_média.pontos, 'y')"
   ]
  },
  {
   "cell_type": "code",
   "execution_count": 8,
   "metadata": {},
   "outputs": [],
   "source": [
    "EJs = [EJ_1, EJ_2, EJ_3]\n",
    "EJs_centradas = [EJ - EJ_média\n",
    "                 for EJ in EJs]\n",
    "\n",
    "for EJ in EJs_centradas:\n",
    "    plt.plot(X, EJ.pontos, '--')"
   ]
  },
  {
   "cell_type": "code",
   "execution_count": 9,
   "metadata": {},
   "outputs": [
    {
     "name": "stdout",
     "output_type": "stream",
     "text": [
      "[[ 0.01546733  0.03093466 -0.00452087 -0.02847128 -0.01423564]\n",
      " [ 0.03093466  0.06186932 -0.00904175 -0.05694256 -0.02847128]\n",
      " [-0.00452087 -0.00904175  0.03318741 -0.00904175 -0.00452087]\n",
      " [-0.02847128 -0.05694256 -0.00904175  0.06186932  0.03093466]\n",
      " [-0.01423564 -0.02847128 -0.00452087  0.03093466  0.01546733]]\n"
     ]
    }
   ],
   "source": [
    "cov = covariância_EJs = [\n",
    "    [sum([EJs_centradas[k][i]\n",
    "          * EJs_centradas[k][j]\n",
    "                     for k in range(len(EJs))]\n",
    "        )/len(EJs)\n",
    "        \n",
    "        for j in range(len(EJs[0]))]\n",
    "        for i in range(len(EJs[0]))]\n",
    "print(\n",
    "np.array(cov))"
   ]
  },
  {
   "cell_type": "code",
   "execution_count": 10,
   "metadata": {},
   "outputs": [
    {
     "name": "stdout",
     "output_type": "stream",
     "text": [
      "[ 1.48514851e-01  1.30646362e-17  3.93458597e-02  1.13308738e-18\n",
      " -4.08154523e-18]\n",
      "[ 1.48514851e-01  3.93458597e-02  1.30646362e-17  1.13308738e-18\n",
      " -4.08154523e-18]\n",
      "[0.14851485 0.03934586]\n"
     ]
    },
    {
     "data": {
      "text/plain": [
       "array([[ 3.16227766e-01,  9.40397739e-01],\n",
       "       [ 6.32455532e-01, -2.45964206e-01],\n",
       "       [-7.28583860e-17,  1.22183279e-01],\n",
       "       [-6.32455532e-01,  1.79387731e-01],\n",
       "       [-3.16227766e-01,  8.96938653e-02]])"
      ]
     },
     "execution_count": 10,
     "metadata": {},
     "output_type": "execute_result"
    }
   ],
   "source": [
    "from numpy.linalg import eig\n",
    "\n",
    "variâncias, vetores = eig(cov)\n",
    "\n",
    "print(variâncias)\n",
    "\n",
    "índices = variâncias.argsort()[::-1]\n",
    "\n",
    "variâncias = variâncias[índices]\n",
    "print(variâncias)\n",
    "\n",
    "k = len(índices)\n",
    "for i in range(len(variâncias)):\n",
    "    if variâncias[índices[i]] < 1e-3:\n",
    "        k = i; break\n",
    "\n",
    "variâncias = variâncias[:k + 1]\n",
    "print(variâncias)\n",
    "\n",
    "vetores = vetores[:, range(k + 1)]\n",
    "\n",
    "variâncias = [float(var) for var in variâncias]\n",
    "\n",
    "vetores"
   ]
  },
  {
   "cell_type": "code",
   "execution_count": 11,
   "metadata": {},
   "outputs": [
    {
     "data": {
      "image/png": "[encoded data removed]",
      "text/plain": [
       "<Figure size 432x288 with 1 Axes>"
      ]
     },
     "metadata": {
      "needs_background": "light"
     },
     "output_type": "display_data"
    }
   ],
   "source": [
    "from ipywidgets import interact\n",
    "\n",
    "@interact(alfa=(-20.0, 20.0), beta=(-20.0, 20.0))\n",
    "def plot_signal(alfa, beta):\n",
    "    vec_alfa = alfa * variâncias[0] * Sinal_de_Cluster(list(vetores[:, 0]))\n",
    "    vec_beta = beta * variâncias[1] * Sinal_de_Cluster(list(vetores[:, 1]))    \n",
    "    resultante = EJ_média + vec_alfa + vec_beta\n",
    "    resultante = resultante.para_a_base(\"C\")\n",
    "    plt.plot(X, resultante.pontos)"
   ]
  },
  {
   "cell_type": "code",
   "execution_count": null,
   "metadata": {},
   "outputs": [],
   "source": []
  }
 ],
 "metadata": {
  "kernelspec": {
   "display_name": "Python 3",
   "language": "python",
   "name": "python3"
  },
  "language_info": {
   "codemirror_mode": {
    "name": "ipython",
    "version": 3
   },
   "file_extension": ".py",
   "mimetype": "text/x-python",
   "name": "python",
   "nbconvert_exporter": "python",
   "pygments_lexer": "ipython3",
   "version": "3.8.3"
  }
 },
 "nbformat": 4,
 "nbformat_minor": 4
}
